{
 "cells": [
  {
   "cell_type": "markdown",
   "metadata": {},
   "source": [
    "### 클래스(Class)의 개요\n",
    "#### 1. 모듈(Module) vs 클래스(Class) vs 인스턴스(Instance)\n",
    "- 모듈 : 확장자가 py로 끝나는 python 파일\n",
    "- 클래스 : 사용자 정의 자료형 (사용자 정의 함수 + 자료구조를 모두 포함하고 있는 것) (자동차 설계도)\n",
    "- 인스턴스(객체) : 클래스로부터 만들어내는 객체 (자동차)\n",
    "- Object, Instance\n",
    "\n",
    "#### 2. 클래스 생성 방법\n",
    "- class 클래스명:\n",
    "    - 변수 = 인스턴스 변수 = 멤버변수 = 멤버필드\n",
    "    - 함수 = def 함수명(self):\n",
    "    \n",
    "#### 3. 생성자(Constructor)\n",
    "- 멤버필드를 초기화시킬 목적으로 사용한다.\n",
    "- class의 인스턴스 객체가 생성될 때 자동으로 호출된다.\n",
    "\n",
    "#### 4. 상송(Inheritance)\n",
    "- 코드의 재사용을 높이기 위해\n",
    "- 부모 클래스 = 기반 클래스\n",
    "- 자녀 클래스 = \n",
    "- 다중 상속이 가능\n"
   ]
  },
  {
   "cell_type": "code",
   "execution_count": 1,
   "metadata": {},
   "outputs": [],
   "source": [
    "# class 선언\n",
    "class Car:  # class 이름의 첫 글자는 대문자로 약속한다.\n",
    "    # 변수 (멤버변수, 멤버필드, 인스턴스함수, 프로퍼티)\n",
    "    name = ''\n",
    "    speed = 0\n",
    "    gas = 0\n",
    "    #함수"
   ]
  },
  {
   "cell_type": "code",
   "execution_count": 2,
   "metadata": {},
   "outputs": [
    {
     "name": "stdout",
     "output_type": "stream",
     "text": [
      "name : 소나타, speed : 0, gas : 100\n"
     ]
    }
   ],
   "source": [
    "# class를 사용하기 위해 instance 객체를 생성해야 한다.\n",
    "c = Car()\n",
    "\n",
    "# instance 변수를 통해 멤버에 점근 (direct 연산자 : . )\n",
    "c.name = '소나타'\n",
    "c.speed = 0\n",
    "c.gas = 100\n",
    "\n",
    "print('name : {}, speed : {}, gas : {}'.format(c.name, c.speed, c.gas))"
   ]
  },
  {
   "cell_type": "code",
   "execution_count": 8,
   "metadata": {},
   "outputs": [],
   "source": [
    "# class 선언\n",
    "class Car:  # class의 첫 글자는 대문자로 약속한다.\n",
    "    # 변수 (멤버변수, 멤버필드, 인스턴스함수, 프로퍼티)\n",
    "    name = ''\n",
    "    speed = 0\n",
    "    gas = 0\n",
    "    #함수\n",
    "    # class 안에 함수는 class 안의 멤버함수를 뜻하는 self\n",
    "    # python 안에 class 안에 포함된 멤버함수를 표시하기 위해 사용한다. # class 내부에 자기 자신을 의미\n",
    "    # Java의 this와 비슷 Java의 this는 생략 가능하지만, python은 self를 꼭 써줘야 한다.\n",
    "    def display(self):\n",
    "            print('name : {}, speed : {}, gas : {}'.format(self.name, self.speed, self.gas))"
   ]
  },
  {
   "cell_type": "code",
   "execution_count": 10,
   "metadata": {},
   "outputs": [
    {
     "name": "stdout",
     "output_type": "stream",
     "text": [
      "name : k5, speed : 0, gas : 100\n"
     ]
    }
   ],
   "source": [
    "c1 = Car()\n",
    "c1.name = 'k5'\n",
    "c1.speed = 0\n",
    "c1.gas = 100\n",
    "c1.display()"
   ]
  },
  {
   "cell_type": "code",
   "execution_count": 11,
   "metadata": {},
   "outputs": [],
   "source": [
    "# class 선언\n",
    "class Car:  # class의 첫 글자는 대문자로 약속한다.\n",
    "    # 변수 (멤버변수, 멤버필드, 인스턴스함수, 프로퍼티)\n",
    "    name = ''\n",
    "    speed = 0\n",
    "    gas = 0\n",
    "    #함수\n",
    "    # class 안에 함수는 class 안의 멤버함수를 뜻하는 self\n",
    "    # python 안에 class 안에 포함된 멤버함수를 표시하기 위해 사용한다. # class 내부에 자기 자신을 의미\n",
    "    # Java의 this와 비슷 Java의 this는 생략 가능하지만, python은 self를 꼭 써줘야 한다.\n",
    "    def display(self):\n",
    "            print('name : {}, speed : {}, gas : {}'.format(self.name, self.speed, self.gas))\n",
    "            \n",
    "    def set_speed(self, speed):\n",
    "        if(speed > 200 or speed < 0):\n",
    "            self.speed = int(input('알맞은 속도를 입력하세요. '))\n",
    "        else:\n",
    "            self.speed = speed"
   ]
  },
  {
   "cell_type": "code",
   "execution_count": 14,
   "metadata": {},
   "outputs": [
    {
     "name": "stdout",
     "output_type": "stream",
     "text": [
      "알맞은 속도를 입력하세요. 34\n",
      "name : BMW, speed : 34, gas : 100\n"
     ]
    }
   ],
   "source": [
    "c3 = Car()\n",
    "c3.name = 'BMW'\n",
    "c3.set_speed(1000)\n",
    "c3.gas = 100\n",
    "c3.display()"
   ]
  },
  {
   "cell_type": "code",
   "execution_count": 18,
   "metadata": {},
   "outputs": [],
   "source": [
    "# 도서 정보\n",
    "class Book:\n",
    "    #멤버필드\n",
    "   # name = ''\n",
    "   # price = 0\n",
    "    \n",
    "    #멤버메서드(함수)\n",
    "    def __init__(self, name, price):  # 생성자 # 생성자에 변수를 적으면 멤버변수를 선언 안해도 된다.\n",
    "        self.name = name\n",
    "        self.price = price\n",
    "    \n",
    "    def disp(self):\n",
    "        print('{}\\t{}'.format(self.name, self.price))"
   ]
  },
  {
   "cell_type": "code",
   "execution_count": 19,
   "metadata": {},
   "outputs": [
    {
     "name": "stdout",
     "output_type": "stream",
     "text": [
      "R언어\t30000\n"
     ]
    }
   ],
   "source": [
    "b = Book('R언어', 30000)\n",
    "b.disp()\n"
   ]
  },
  {
   "cell_type": "code",
   "execution_count": 25,
   "metadata": {},
   "outputs": [],
   "source": [
    "class BookSale(Book):\n",
    "    # 부모 클래스를 상속 받은 자식은 반드시 부모 객체를 초기화 시켜줄 의무가 있다.\n",
    "    # def __init__(self, amount): -> X\n",
    "    def __init__(self, name, price, amount):    \n",
    "#         self.name = name\n",
    "#         self.price = price\n",
    "        Book.__init__(self, name, price)\n",
    "        self.amount = amount\n",
    "        \n",
    "    def calc(self):\n",
    "        #매출 금액 = 단가 * 수량\n",
    "        self.money = self.price * self.amount\n",
    "        \n",
    "        #판매부수에 따른 인쇄 : 1000부까지 1%, 3000부 3%, 3000부 이상: 5%\n",
    "        if 1 <= self.amount <= 1000:\n",
    "            self.tax = self.money * 0.01\n",
    "            \n",
    "        elif 1001 <= self.amount <= 3000:\n",
    "            self.tax = self.money * 0.03\n",
    "            \n",
    "        elif 3001 <= self.amount:\n",
    "            self.tax = self.money * 0.05\n",
    "            \n",
    "    #오버라이딩(재정의) 부모에 정의되어 있는 함수를 다시 정의\n",
    "    def disp(self):\n",
    "        print('{}\\t{}\\t{}\\t{}\\t{}'.format(self.name, self.price, self.amount, self.money, self.tax))"
   ]
  },
  {
   "cell_type": "code",
   "execution_count": 21,
   "metadata": {},
   "outputs": [],
   "source": [
    "# 다중상속\n",
    "class A:\n",
    "    def aaa(self):\n",
    "        print('AAA')\n",
    "\n",
    "class B:\n",
    "    def bbb(self):\n",
    "        print('BBB')\n",
    "\n",
    "class C:\n",
    "    def ccc(self):\n",
    "        print('CCC')\n",
    "\n",
    "class D(A, B, C): #다중상속\n",
    "    pass "
   ]
  },
  {
   "cell_type": "code",
   "execution_count": 22,
   "metadata": {},
   "outputs": [
    {
     "name": "stdout",
     "output_type": "stream",
     "text": [
      "AAA\n",
      "BBB\n",
      "CCC\n"
     ]
    }
   ],
   "source": [
    "ap = A()\n",
    "bp = B()\n",
    "cp = C()\n",
    "\n",
    "ap.aaa()\n",
    "bp.bbb()\n",
    "cp.ccc()"
   ]
  },
  {
   "cell_type": "code",
   "execution_count": 23,
   "metadata": {},
   "outputs": [
    {
     "name": "stdout",
     "output_type": "stream",
     "text": [
      "AAA\n",
      "BBB\n",
      "CCC\n"
     ]
    }
   ],
   "source": [
    "dp = D()\n",
    "dp.aaa()\n",
    "dp.bbb()\n",
    "dp.ccc()"
   ]
  },
  {
   "cell_type": "code",
   "execution_count": 26,
   "metadata": {},
   "outputs": [
    {
     "name": "stdout",
     "output_type": "stream",
     "text": [
      "C언어\t10000\t5000\t50000000\t2500000.0\n",
      "Python\t25000\t2500\t62500000\t1875000.0\n",
      "Java\t3500\t3500\t12250000\t612500.0\n"
     ]
    }
   ],
   "source": [
    "book1 = BookSale('C언어', 10000, 5000)\n",
    "book1.calc()\n",
    "book1.disp()\n",
    "\n",
    "book2 = BookSale('Python', 25000, 2500)\n",
    "book2.calc()\n",
    "book2.disp()\n",
    "\n",
    "book3 = BookSale('Java', 3500, 3500)\n",
    "book3.calc()\n",
    "book3.disp()\n"
   ]
  },
  {
   "cell_type": "code",
   "execution_count": null,
   "metadata": {},
   "outputs": [],
   "source": []
  }
 ],
 "metadata": {
  "kernelspec": {
   "display_name": "Python 3",
   "language": "python",
   "name": "python3"
  },
  "language_info": {
   "codemirror_mode": {
    "name": "ipython",
    "version": 3
   },
   "file_extension": ".py",
   "mimetype": "text/x-python",
   "name": "python",
   "nbconvert_exporter": "python",
   "pygments_lexer": "ipython3",
   "version": "3.7.4"
  }
 },
 "nbformat": 4,
 "nbformat_minor": 2
}
