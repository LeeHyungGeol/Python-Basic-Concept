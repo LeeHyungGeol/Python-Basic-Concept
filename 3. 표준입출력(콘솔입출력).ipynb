{
 "cells": [
  {
   "cell_type": "code",
   "execution_count": 1,
   "metadata": {},
   "outputs": [
    {
     "name": "stdout",
     "output_type": "stream",
     "text": [
      "Help on method raw_input in module ipykernel.kernelbase:\n",
      "\n",
      "input = raw_input(prompt='') method of ipykernel.ipkernel.IPythonKernel instance\n",
      "    Forward raw_input to frontends\n",
      "    \n",
      "    Raises\n",
      "    ------\n",
      "    StdinNotImplentedError if active frontend doesn't support stdin.\n",
      "\n"
     ]
    }
   ],
   "source": [
    "# 표준 입력\n",
    "# input\n",
    "help('input')"
   ]
  },
  {
   "cell_type": "code",
   "execution_count": 2,
   "metadata": {},
   "outputs": [
    {
     "name": "stdout",
     "output_type": "stream",
     "text": [
      "숫자를 입력하세요5\n"
     ]
    },
    {
     "data": {
      "text/plain": [
       "'5'"
      ]
     },
     "execution_count": 2,
     "metadata": {},
     "output_type": "execute_result"
    }
   ],
   "source": [
    "input('숫자를 입력하세요') # 기본적으로 문자열을 입력"
   ]
  },
  {
   "cell_type": "code",
   "execution_count": 4,
   "metadata": {},
   "outputs": [
    {
     "name": "stdout",
     "output_type": "stream",
     "text": [
      "첫번째 수 = 10\n",
      "두번째 수 = 20\n",
      "30\n"
     ]
    }
   ],
   "source": [
    "# 두 개의 숫자를 입력 받아서 사칙연산을 계산하는 로직\n",
    "a = int(input('첫번째 수 = '))\n",
    "b = int(input('두번째 수 = '))\n",
    "print(a+b)\n",
    "# print(a-b)\n",
    "# print(a*b)\n",
    "# print(a/b)"
   ]
  },
  {
   "cell_type": "code",
   "execution_count": 5,
   "metadata": {},
   "outputs": [
    {
     "name": "stdout",
     "output_type": "stream",
     "text": [
      "두 개의 숫자 입력 = 100 200\n",
      "100\n",
      "200\n"
     ]
    }
   ],
   "source": [
    "# 두 개 이상의 값을 입력받아 처리하는 작업\n",
    "a, b = input('두 개의 숫자 입력 = ').split()\n",
    "print(a)\n",
    "print(b)"
   ]
  },
  {
   "cell_type": "code",
   "execution_count": 7,
   "metadata": {},
   "outputs": [
    {
     "name": "stdout",
     "output_type": "stream",
     "text": [
      "정수 1 : 9\n",
      "정수 2 : 81\n",
      "실수 1 : 3.07\n"
     ]
    }
   ],
   "source": [
    "# 표준 출력\n",
    "x = 9\n",
    "# 서식을 활용한 출력 : 문자열.format(출력할 값)\n",
    "print('정수 1 : {0}'.format(x))\n",
    "print('정수 2 : {0}'.format(3**4))\n",
    "print('실수 1 : {0:.2f}'.format(8.3/2.7))"
   ]
  },
  {
   "cell_type": "code",
   "execution_count": 8,
   "metadata": {},
   "outputs": [
    {
     "name": "stdout",
     "output_type": "stream",
     "text": [
      "a = 10, b = 20\n"
     ]
    }
   ],
   "source": [
    "a = 10\n",
    "b = 20\n",
    "print('a = {0}, b = {1}'.format(a, b))"
   ]
  },
  {
   "cell_type": "code",
   "execution_count": 4,
   "metadata": {},
   "outputs": [
    {
     "name": "stdout",
     "output_type": "stream",
     "text": [
      "2.6667\n",
      "2.6667\n",
      "    2.6667\n",
      "    2.6667\n"
     ]
    }
   ],
   "source": [
    "print('{0:.4f}'.format(8.0/3))\n",
    "print('{:.4f}'.format(8.0/3))\n",
    "print('{0:10.4f}'.format(8.0/3)) # 전체 숫자 자리, 오른쪽에 맞춰서 정렬\n",
    "print('{:10.4f}'.format(8.0/3))"
   ]
  },
  {
   "cell_type": "code",
   "execution_count": 11,
   "metadata": {},
   "outputs": [
    {
     "name": "stdout",
     "output_type": "stream",
     "text": [
      "a = 10\n"
     ]
    }
   ],
   "source": [
    "a = 10\n",
    "print('a = %d' % a)\n",
    "\n",
    "# %d - 정수, %f - 실수, %s - 문자열, %c - 문자형"
   ]
  },
  {
   "cell_type": "code",
   "execution_count": 12,
   "metadata": {},
   "outputs": [
    {
     "name": "stdout",
     "output_type": "stream",
     "text": [
      "lee님 당신의 나이는 20세 이군요\n",
      "lee님 당신의 나이는 20세 이군요\n"
     ]
    }
   ],
   "source": [
    "name = 'lee'\n",
    "age = 20\n",
    "print('{}님 당신의 나이는 {}세 이군요'.format(name, age))\n",
    "print('%s님 당신의 나이는 %d세 이군요' % (name, age))"
   ]
  },
  {
   "cell_type": "code",
   "execution_count": 17,
   "metadata": {},
   "outputs": [
    {
     "name": "stdout",
     "output_type": "stream",
     "text": [
      "10 20 30\n",
      "10-20-30\n",
      "Hello World\n",
      "100x200\n",
      "10 20 30\n",
      "10 20 30\n"
     ]
    }
   ],
   "source": [
    "print(10, 20, 30, sep = ' ')\n",
    "print(10, 20, 30, sep = '-')\n",
    "print('Hello', 'World', sep = ' ')\n",
    "print(100, 200, sep = 'x')\n",
    "print(10, 20, 30 )\n",
    "print(10, 20, 30, )"
   ]
  },
  {
   "cell_type": "code",
   "execution_count": 19,
   "metadata": {},
   "outputs": [
    {
     "name": "stdout",
     "output_type": "stream",
     "text": [
      "Hello\n",
      "\n",
      "Python\n"
     ]
    }
   ],
   "source": [
    "a = 'Hello\\n\\nPython'\n",
    "print(a)"
   ]
  },
  {
   "cell_type": "code",
   "execution_count": 5,
   "metadata": {},
   "outputs": [
    {
     "name": "stdout",
     "output_type": "stream",
     "text": [
      "\n",
      "Hello\n",
      "Python\n",
      "Java\n",
      "C\n",
      "C++\n",
      "C#\n",
      "################\n",
      "너무 좋아요\n",
      "\n",
      "<class 'str'>\n"
     ]
    }
   ],
   "source": [
    "a = '''\n",
    "Hello\n",
    "Python\n",
    "Java\n",
    "C\n",
    "C++\n",
    "C#\n",
    "################\n",
    "너무 좋아요\n",
    "'''\n",
    "print(a)\n",
    "print(type(a))"
   ]
  },
  {
   "cell_type": "code",
   "execution_count": 6,
   "metadata": {},
   "outputs": [
    {
     "name": "stdout",
     "output_type": "stream",
     "text": [
      "파이썬은쉽다\n",
      "<class 'str'>\n"
     ]
    }
   ],
   "source": [
    "# 문자열 연결\n",
    "a = '파이썬은'\n",
    "b = '쉽다'\n",
    "print(a+b)\n",
    "print(type(a+b))"
   ]
  },
  {
   "cell_type": "code",
   "execution_count": 22,
   "metadata": {},
   "outputs": [
    {
     "name": "stdout",
     "output_type": "stream",
     "text": [
      "name : 홍길동\n",
      "age : 20\n"
     ]
    }
   ],
   "source": [
    "name = '홍길동'\n",
    "age = 20\n",
    "print('name : ' + name)\n",
    "print('age : ' + str(age))"
   ]
  },
  {
   "cell_type": "code",
   "execution_count": 23,
   "metadata": {},
   "outputs": [
    {
     "name": "stdout",
     "output_type": "stream",
     "text": [
      "==================================================\n",
      "나의 파이썬 프로그래밍\n",
      "==========\n"
     ]
    }
   ],
   "source": [
    "print('='*50) # 문자열과 * 는 반복이다\n",
    "print('나의 파이썬 프로그래밍')\n",
    "print('='*10)"
   ]
  },
  {
   "cell_type": "code",
   "execution_count": 24,
   "metadata": {},
   "outputs": [
    {
     "name": "stdout",
     "output_type": "stream",
     "text": [
      "Hello Python\n"
     ]
    }
   ],
   "source": [
    "# 문자열 indexing\n",
    "a = 'Hello Python'\n",
    "print(a)"
   ]
  },
  {
   "cell_type": "code",
   "execution_count": 25,
   "metadata": {},
   "outputs": [
    {
     "name": "stdout",
     "output_type": "stream",
     "text": [
      "P\n"
     ]
    }
   ],
   "source": [
    "print(a[6])"
   ]
  },
  {
   "cell_type": "code",
   "execution_count": 26,
   "metadata": {},
   "outputs": [
    {
     "name": "stdout",
     "output_type": "stream",
     "text": [
      "H\n"
     ]
    }
   ],
   "source": [
    "print(a[0])"
   ]
  },
  {
   "cell_type": "code",
   "execution_count": 27,
   "metadata": {},
   "outputs": [
    {
     "name": "stdout",
     "output_type": "stream",
     "text": [
      "n\n",
      "n\n",
      "o\n"
     ]
    }
   ],
   "source": [
    "print(a[11])\n",
    "print(a[-1]) # inverse indexing\n",
    "print(a[-2]) # inverse indexing"
   ]
  },
  {
   "cell_type": "code",
   "execution_count": 30,
   "metadata": {},
   "outputs": [
    {
     "name": "stdout",
     "output_type": "stream",
     "text": [
      "Hello\n",
      "Hello\n",
      "Python\n",
      "Python\n",
      "Hello Python\n"
     ]
    }
   ],
   "source": [
    "# 문자열과 슬라이싱(Slicing)\n",
    "print(a[0:5]) #문자열[start:stop] stop-1 까지\n",
    "print(a[:5])\n",
    "print(a[6:12])\n",
    "print(a[6:])\n",
    "print(a[:])"
   ]
  },
  {
   "cell_type": "code",
   "execution_count": 32,
   "metadata": {},
   "outputs": [
    {
     "name": "stdout",
     "output_type": "stream",
     "text": [
      "hello\n",
      "hello     \n",
      "     hello\n",
      "  hello   \n"
     ]
    }
   ],
   "source": [
    "# 문자열의 정렬\n",
    "a = 'hello'\n",
    "result = '{}'.format(a)\n",
    "print(result)\n",
    "# 전체 자리수 10자리, 문자는 일반적으로 왼쪽부터 정렬\n",
    "result = '{:10}'.format(a)\n",
    "print(result)\n",
    "# 오른쪽 정렬\n",
    "result = '{:>10}'.format(a)\n",
    "print(result)\n",
    "# 가운데 정렬\n",
    "result = '{:^10}'.format(a)\n",
    "print(result)"
   ]
  },
  {
   "cell_type": "code",
   "execution_count": 33,
   "metadata": {},
   "outputs": [
    {
     "name": "stdout",
     "output_type": "stream",
     "text": [
      "========================================\n",
      "\n"
     ]
    }
   ],
   "source": [
    "print('=' * 40)\n",
    "print()"
   ]
  },
  {
   "cell_type": "code",
   "execution_count": 34,
   "metadata": {},
   "outputs": [
    {
     "name": "stdout",
     "output_type": "stream",
     "text": [
      "I Love you\n",
      "2\n",
      "1\n"
     ]
    }
   ],
   "source": [
    "# 문자열과 함께 사용되는 함수\n",
    "a = \"I Love you\"\n",
    "print(a)\n",
    "print(a.count('o')) # 문자열.count('문자')\n",
    "print(a.count('y'))"
   ]
  },
  {
   "cell_type": "code",
   "execution_count": 38,
   "metadata": {},
   "outputs": [
    {
     "name": "stdout",
     "output_type": "stream",
     "text": [
      "h,e,l,l,o\n"
     ]
    }
   ],
   "source": [
    "# 문자열에 구분자를 추가하는 함수 : join\n",
    "a = 'hello'\n",
    "result = ','.join(a)\n",
    "print(result)"
   ]
  },
  {
   "cell_type": "code",
   "execution_count": 41,
   "metadata": {},
   "outputs": [
    {
     "name": "stdout",
     "output_type": "stream",
     "text": [
      "['h', 'e', 'l', 'l', 'o']\n",
      "<class 'list'>\n"
     ]
    }
   ],
   "source": [
    "a = 'h-e-l-l-o'\n",
    "b = a.split('-')\n",
    "print(b)\n",
    "print(type(b))"
   ]
  },
  {
   "cell_type": "code",
   "execution_count": 42,
   "metadata": {},
   "outputs": [
    {
     "name": "stdout",
     "output_type": "stream",
     "text": [
      "hello\n",
      "HELLO\n",
      "hello\n",
      "Hello python\n"
     ]
    }
   ],
   "source": [
    "a = 'hello'\n",
    "print(a)\n",
    "# 모든 문자열을 대문자로 : 문자열.upper()\n",
    "b = a.upper()\n",
    "print(b)\n",
    "# 모든 문자열을 소문자로 : 문자열.lower()\n",
    "c = b.lower()\n",
    "print(c)\n",
    "# 첫 글자만 대문자로 : 문자열.capitalize()\n",
    "d = 'hello python'\n",
    "e = d.capitalize()\n",
    "print(e)"
   ]
  },
  {
   "cell_type": "code",
   "execution_count": 44,
   "metadata": {},
   "outputs": [
    {
     "name": "stdout",
     "output_type": "stream",
     "text": [
      "hello\n",
      "hello        \n",
      "    hello\n"
     ]
    }
   ],
   "source": [
    "# 문자열의 공백 제거\n",
    "a = '    hello        '\n",
    "b = a.strip() # 좌우 공백 제거\n",
    "print(b)\n",
    "c = a.lstrip() # 좌측 공백 제거\n",
    "print(c)\n",
    "d = a.rstrip() # 우측 공백 제거\n",
    "print(d)"
   ]
  },
  {
   "cell_type": "code",
   "execution_count": 45,
   "metadata": {},
   "outputs": [
    {
     "name": "stdout",
     "output_type": "stream",
     "text": [
      "신입 개발자\n",
      "경력 개발자\n"
     ]
    }
   ],
   "source": [
    "a = '신입 개발자'\n",
    "print(a)\n",
    "# 문자열.replace(A,B) 문자열에서 A를 B로 치환\n",
    "b = a.replace('신입','경력')\n",
    "print(b)"
   ]
  },
  {
   "cell_type": "code",
   "execution_count": 48,
   "metadata": {},
   "outputs": [
    {
     "name": "stdout",
     "output_type": "stream",
     "text": [
      "False\n",
      "True\n",
      "False\n"
     ]
    }
   ],
   "source": [
    "a = True\n",
    "b = False\n",
    "\n",
    "print(a and b) #논리곱 True True\n",
    "print( a or b) #어느거 하나라도 True 이면 True\n",
    "print(not a)"
   ]
  },
  {
   "cell_type": "code",
   "execution_count": 54,
   "metadata": {},
   "outputs": [
    {
     "name": "stdout",
     "output_type": "stream",
     "text": [
      "불합격\n",
      "end\n"
     ]
    }
   ],
   "source": [
    "mypoint = 12\n",
    "# if 조건식\n",
    "if mypoint >= 60:\n",
    "    print('합격')\n",
    "else:\n",
    "    print('불합격')\n",
    "print('end')"
   ]
  },
  {
   "cell_type": "code",
   "execution_count": null,
   "metadata": {},
   "outputs": [],
   "source": []
  }
 ],
 "metadata": {
  "kernelspec": {
   "display_name": "Python 3",
   "language": "python",
   "name": "python3"
  },
  "language_info": {
   "codemirror_mode": {
    "name": "ipython",
    "version": 3
   },
   "file_extension": ".py",
   "mimetype": "text/x-python",
   "name": "python",
   "nbconvert_exporter": "python",
   "pygments_lexer": "ipython3",
   "version": "3.7.4"
  }
 },
 "nbformat": 4,
 "nbformat_minor": 2
}
