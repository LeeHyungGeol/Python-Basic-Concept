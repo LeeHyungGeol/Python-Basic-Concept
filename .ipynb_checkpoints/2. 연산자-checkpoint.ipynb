{
 "cells": [
  {
   "cell_type": "code",
   "execution_count": 7,
   "metadata": {},
   "outputs": [
    {
     "name": "stdout",
     "output_type": "stream",
     "text": [
      "30.33\n",
      "-10.13\n",
      "204.323\n",
      "0.4992585269401878\n",
      "0.50\n",
      "{0.499}\n"
     ]
    }
   ],
   "source": [
    "# 연산자 : 산술연산자, 비교연산자, 논리연산자, 대입연산자\n",
    "a = 10.1\n",
    "b = 20.23\n",
    "print(a+b)\n",
    "print(a-b)\n",
    "print(a*b)\n",
    "print(a/b)\n",
    "# 출력서식(format)\n",
    "print('{:.2f}'.format(a/b))\n",
    "print('{%.3f}' % (a/b))"
   ]
  },
  {
   "cell_type": "code",
   "execution_count": 9,
   "metadata": {},
   "outputs": [
    {
     "name": "stdout",
     "output_type": "stream",
     "text": [
      "3.3333333333333335\n",
      "3\n",
      "1\n"
     ]
    }
   ],
   "source": [
    "a = 10\n",
    "b = 3\n",
    "print(a/b) # 실수몫 \n",
    "print(a//b) # 정수몫\n",
    "print(a%b) # a를 b로 나눈 나머지"
   ]
  },
  {
   "cell_type": "code",
   "execution_count": 10,
   "metadata": {},
   "outputs": [
    {
     "name": "stdout",
     "output_type": "stream",
     "text": [
      "30\n",
      "1000\n"
     ]
    }
   ],
   "source": [
    "print(a*b)\n",
    "print(a**b) # a의 b승, 거듭제곱"
   ]
  },
  {
   "cell_type": "code",
   "execution_count": 12,
   "metadata": {},
   "outputs": [
    {
     "name": "stdout",
     "output_type": "stream",
     "text": [
      "pythonpythonpython\n"
     ]
    }
   ],
   "source": [
    "a = 'python'\n",
    "print(a*3) # str의 반복의 의미"
   ]
  },
  {
   "cell_type": "code",
   "execution_count": null,
   "metadata": {},
   "outputs": [],
   "source": []
  }
 ],
 "metadata": {
  "kernelspec": {
   "display_name": "Python 3",
   "language": "python",
   "name": "python3"
  },
  "language_info": {
   "codemirror_mode": {
    "name": "ipython",
    "version": 3
   },
   "file_extension": ".py",
   "mimetype": "text/x-python",
   "name": "python",
   "nbconvert_exporter": "python",
   "pygments_lexer": "ipython3",
   "version": "3.7.4"
  }
 },
 "nbformat": 4,
 "nbformat_minor": 2
}
