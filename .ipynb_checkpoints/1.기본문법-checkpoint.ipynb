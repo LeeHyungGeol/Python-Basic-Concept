{
 "cells": [
  {
   "cell_type": "markdown",
   "metadata": {},
   "source": [
    "#파이썬 표준 라이브러리\n",
    "#https://docs.python.org/3/library/index.html"
   ]
  },
  {
   "cell_type": "code",
   "execution_count": 2,
   "metadata": {},
   "outputs": [
    {
     "name": "stdout",
     "output_type": "stream",
     "text": [
      "['False', 'None', 'True', 'and', 'as', 'assert', 'async', 'await', 'break', 'class', 'continue', 'def', 'del', 'elif', 'else', 'except', 'finally', 'for', 'from', 'global', 'if', 'import', 'in', 'is', 'lambda', 'nonlocal', 'not', 'or', 'pass', 'raise', 'return', 'try', 'while', 'with', 'yield']\n",
      "35\n"
     ]
    }
   ],
   "source": [
    "#예약어\n",
    "import keyword #외부 모듈 추가\n",
    "print(keyword.kwlist)  \n",
    "print(len(keyword.kwlist)) # len 자료갯수"
   ]
  },
  {
   "cell_type": "code",
   "execution_count": 9,
   "metadata": {},
   "outputs": [
    {
     "name": "stdout",
     "output_type": "stream",
     "text": [
      "10\n",
      "<class 'int'>\n",
      "3.14\n",
      "<class 'float'>\n",
      "adfsf\n",
      "<class 'str'>\n"
     ]
    }
   ],
   "source": [
    "# 변수 : 변하는 수, 기억장소(메모리)\n",
    "# 가변 자료형, 동적 타이핑, 동적 할당   # 프로그램이 실행될 때 자료형이 결정된다!!\n",
    "a = 10\n",
    "print(a)\n",
    "print(type(a))\n",
    "a = 3.14\n",
    "print(a)\n",
    "print(type(a))\n",
    "a = 'adfsf'\n",
    "print(a)\n",
    "print(type(a))"
   ]
  },
  {
   "cell_type": "code",
   "execution_count": 10,
   "metadata": {},
   "outputs": [
    {
     "ename": "SyntaxError",
     "evalue": "can't assign to literal (<ipython-input-10-7d3818ae4c19>, line 2)",
     "output_type": "error",
     "traceback": [
      "\u001b[1;36m  File \u001b[1;32m\"<ipython-input-10-7d3818ae4c19>\"\u001b[1;36m, line \u001b[1;32m2\u001b[0m\n\u001b[1;33m    10 = a\u001b[0m\n\u001b[1;37m          ^\u001b[0m\n\u001b[1;31mSyntaxError\u001b[0m\u001b[1;31m:\u001b[0m can't assign to literal\n"
     ]
    }
   ],
   "source": [
    "#상수 constant : 값, 고정된 값\n",
    "10 = a"
   ]
  },
  {
   "cell_type": "code",
   "execution_count": 14,
   "metadata": {},
   "outputs": [
    {
     "name": "stdout",
     "output_type": "stream",
     "text": [
      "10\n",
      "<class 'int'>\n",
      "python\n",
      "<class 'str'>\n",
      "python\n",
      "<class 'str'>\n",
      "False\n",
      "<class 'bool'>\n"
     ]
    }
   ],
   "source": [
    "# data type : 숫자형(정수형, 실수형), 문자형, 논리형\n",
    "# 논리형 : True, False (첫 글자가 무조건 대문자)\n",
    "# type(변수) : 변수의 자료형을 확인하는 함수\n",
    "a = 10\n",
    "print(a)  \n",
    "print(type(a))\n",
    "a='python'\n",
    "print(a)  \n",
    "print(type(a))\n",
    "a=\"python\" # 문자열 string '' \"\" 둘 다 가능 \n",
    "print(a)  \n",
    "print(type(a))\n",
    "a=  False\n",
    "print(a)  \n",
    "print(type(a))"
   ]
  },
  {
   "cell_type": "code",
   "execution_count": null,
   "metadata": {},
   "outputs": [],
   "source": [
    "import math\n"
   ]
  }
 ],
 "metadata": {
  "kernelspec": {
   "display_name": "Python 3",
   "language": "python",
   "name": "python3"
  },
  "language_info": {
   "codemirror_mode": {
    "name": "ipython",
    "version": 3
   },
   "file_extension": ".py",
   "mimetype": "text/x-python",
   "name": "python",
   "nbconvert_exporter": "python",
   "pygments_lexer": "ipython3",
   "version": "3.7.4"
  }
 },
 "nbformat": 4,
 "nbformat_minor": 2
}
