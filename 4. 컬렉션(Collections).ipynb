{
 "cells": [
  {
   "cell_type": "markdown",
   "metadata": {},
   "source": [
    "### 1. 컬렉션(Collections)\n",
    "- 여러 개의 값을 저장하는 자료형\n",
    "- List, Tuple, Dictionary, Set 등\n",
    "\n",
    "### 2. 리스트(List)\n",
    "- 여러 개의 값을 순서대로 저장하는 자료형\n",
    "- 시퀀스(Sequence) 자료형\n",
    "- 각 값에 대한 인덱스가 부여된다.\n",
    "- 변경 가능\n",
    "- 대괄호 [] 사용\n",
    "- range() 함수를 통해 인덱스 리스트 생성 가능\n",
    "- 자료형에 대해 독립적이다!!!!!!\n",
    "\n",
    "### 3. 튜플(Tuple)\n",
    "- 리스트와 유사하지만 값을 변경할 수 없다.\n",
    "- 각 값에 단 인덱스가 부여된다.\n",
    "- 변경 불가능\n",
    "- 소괄호 () 사용\n",
    "\n",
    "### 4. 사전(Dictionary)\n",
    "- 정수형 인덱스가 아닌 키(key)를 이용해서 값을 저장 및 조회하는 자료형\n",
    "- 순서는 의미 없다.\n",
    "- 중괄호 {} 사용\n",
    "- 콤마(,)로 아이템을 구분\n",
    "- 원소 key:value\n",
    "- key는 중복값을 허용하지 않는다\n",
    "- value는 중복값을 허용한다.\n",
    "- 사전.keys() => key값만 추출\n",
    "- 사전.values() => value만 추출\n",
    "- 사전.items() => key와 value를 튜플로 추출\n",
    "\n",
    "### 5. 집합(Set)\n",
    "- 인덱스가 없고 값만 저장하는 자료형\n",
    "- 순서는 의미가 없다.\n",
    "- 중괄호 {} 사용\n",
    "- 중복값을 \n"
   ]
  },
  {
   "cell_type": "code",
   "execution_count": null,
   "metadata": {},
   "outputs": [],
   "source": []
  }
 ],
 "metadata": {
  "kernelspec": {
   "display_name": "Python 3",
   "language": "python",
   "name": "python3"
  },
  "language_info": {
   "codemirror_mode": {
    "name": "ipython",
    "version": 3
   },
   "file_extension": ".py",
   "mimetype": "text/x-python",
   "name": "python",
   "nbconvert_exporter": "python",
   "pygments_lexer": "ipython3",
   "version": "3.7.4"
  }
 },
 "nbformat": 4,
 "nbformat_minor": 2
}
