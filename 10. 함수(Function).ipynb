{
 "cells": [
  {
   "cell_type": "code",
   "execution_count": 2,
   "metadata": {},
   "outputs": [
    {
     "name": "stdout",
     "output_type": "stream",
     "text": [
      "3\n",
      "3\n"
     ]
    }
   ],
   "source": [
    "# 함수: 명령어 덩어리, input이 있으면, output이 있다.\n",
    "# 내장함수와 사용자 정의 함수\n",
    "print(abs(3))\n",
    "print(abs(-3))"
   ]
  },
  {
   "cell_type": "code",
   "execution_count": 4,
   "metadata": {},
   "outputs": [
    {
     "name": "stdout",
     "output_type": "stream",
     "text": [
      "True\n",
      "False\n"
     ]
    }
   ],
   "source": [
    "print(all([1,2,3])) # 모든 요소가 True 이면 결과가 True, 0이 아니면 모두 True\n",
    "print(all([1,2,3,0])) # 모든 요소가 True 이면 결과가 True, 0이면 False"
   ]
  },
  {
   "cell_type": "code",
   "execution_count": 5,
   "metadata": {},
   "outputs": [
    {
     "name": "stdout",
     "output_type": "stream",
     "text": [
      "True\n",
      "False\n"
     ]
    }
   ],
   "source": [
    "print(any([1,2,3])) # 하나라도 True이면 결과가 True\n",
    "print(any([0, \"\"]))  # 문자열이 내용이 없으면 False"
   ]
  },
  {
   "cell_type": "code",
   "execution_count": 6,
   "metadata": {},
   "outputs": [
    {
     "name": "stdout",
     "output_type": "stream",
     "text": [
      "<class 'list'>\n",
      "['__add__', '__class__', '__contains__', '__delattr__', '__delitem__', '__dir__', '__doc__', '__eq__', '__format__', '__ge__', '__getattribute__', '__getitem__', '__gt__', '__hash__', '__iadd__', '__imul__', '__init__', '__init_subclass__', '__iter__', '__le__', '__len__', '__lt__', '__mul__', '__ne__', '__new__', '__reduce__', '__reduce_ex__', '__repr__', '__reversed__', '__rmul__', '__setattr__', '__setitem__', '__sizeof__', '__str__', '__subclasshook__', 'append', 'clear', 'copy', 'count', 'extend', 'index', 'insert', 'pop', 'remove', 'reverse', 'sort']\n"
     ]
    }
   ],
   "source": [
    "# dir(객체) : 객체이 포함된 변수와 함수의 목록을 추출\n",
    "print(type([1,2,3]))\n",
    "print(dir([1,2,3]))"
   ]
  },
  {
   "cell_type": "code",
   "execution_count": 7,
   "metadata": {},
   "outputs": [],
   "source": [
    "# 사용자 정의 함수\n",
    "# define 정의 : def 함수명(매개변수 or 파라미터):\n",
    "def calc(x):\n",
    "    return x*2"
   ]
  },
  {
   "cell_type": "code",
   "execution_count": 10,
   "metadata": {},
   "outputs": [
    {
     "name": "stdout",
     "output_type": "stream",
     "text": [
      "2 4 6 8 "
     ]
    }
   ],
   "source": [
    "# 함수의 호출\n",
    "for i in range(1,5):\n",
    "    a = calc(i)\n",
    "    print(a, end = ' ')"
   ]
  },
  {
   "cell_type": "code",
   "execution_count": 11,
   "metadata": {},
   "outputs": [
    {
     "name": "stdout",
     "output_type": "stream",
     "text": [
      "[2, 4, 6, 8] <class 'list'>\n"
     ]
    }
   ],
   "source": [
    "# map(함수 이름, 리스트)\n",
    "# 리스트의 각 요소와 함수의 입력 매개변수에 전달되어 리턴하는 것\n",
    "a = list(map(calc, [1,2,3,4]))\n",
    "print(a, type(a))"
   ]
  },
  {
   "cell_type": "code",
   "execution_count": 18,
   "metadata": {},
   "outputs": [],
   "source": [
    "def say():  # 매개변수를 갖고 있지 않은 함수 \n",
    "    print('hi')                      # 함수의 return 값은 원래 하나이다.\n",
    "    return 100, 200, 300, 400, 500  # 사람의 눈에는 5개로 보이지만, tuple로 하나로 담겨지는것 # 소괄호 ()가 생략되어 있은 것"
   ]
  },
  {
   "cell_type": "code",
   "execution_count": 19,
   "metadata": {},
   "outputs": [
    {
     "name": "stdout",
     "output_type": "stream",
     "text": [
      "hi\n",
      "100 200 300 400 500\n",
      "100\n",
      "400\n"
     ]
    }
   ],
   "source": [
    "a, b, c, d, e = say()\n",
    "print(a,b,c,d,e)\n",
    "print(a)\n",
    "print(d)"
   ]
  },
  {
   "cell_type": "code",
   "execution_count": 20,
   "metadata": {},
   "outputs": [],
   "source": [
    "def hello(name):\n",
    "    print('Hello', name)"
   ]
  },
  {
   "cell_type": "code",
   "execution_count": 22,
   "metadata": {},
   "outputs": [
    {
     "name": "stdout",
     "output_type": "stream",
     "text": [
      "Hello lee\n",
      "None\n"
     ]
    }
   ],
   "source": [
    "a = hello('lee')\n",
    "print(a) # 매개변수 없이 함수 호출된다."
   ]
  },
  {
   "cell_type": "code",
   "execution_count": 23,
   "metadata": {},
   "outputs": [],
   "source": [
    "def hello2(name = None): # default parameter를 설정할 수 있다.\n",
    "    if name == None:\n",
    "        print('이름을 입력해주세요.')\n",
    "        return \n",
    "    print('Hello , ', name)"
   ]
  },
  {
   "cell_type": "code",
   "execution_count": 24,
   "metadata": {},
   "outputs": [
    {
     "name": "stdout",
     "output_type": "stream",
     "text": [
      "이름을 입력해주세요.\n"
     ]
    }
   ],
   "source": [
    "hello2()"
   ]
  },
  {
   "cell_type": "code",
   "execution_count": 26,
   "metadata": {},
   "outputs": [
    {
     "name": "stdout",
     "output_type": "stream",
     "text": [
      "Hello ,  lee\n"
     ]
    }
   ],
   "source": [
    "hello2('lee')"
   ]
  },
  {
   "cell_type": "code",
   "execution_count": 33,
   "metadata": {},
   "outputs": [],
   "source": [
    "# *변수 : 가변길이 매개변수\n",
    "# 입력 매개변수의 값들을 모두 모아서 tuple로 만들어 준다.\n",
    "def sum(*args):\n",
    "    print(args)\n",
    "    print(type(args))\n",
    "    result = 0\n",
    "    for i in args:\n",
    "        result += i\n",
    "    return result"
   ]
  },
  {
   "cell_type": "code",
   "execution_count": 34,
   "metadata": {},
   "outputs": [
    {
     "name": "stdout",
     "output_type": "stream",
     "text": [
      "(1, 2, 3, 4, 5)\n",
      "<class 'tuple'>\n"
     ]
    },
    {
     "data": {
      "text/plain": [
       "15"
      ]
     },
     "execution_count": 34,
     "metadata": {},
     "output_type": "execute_result"
    }
   ],
   "source": [
    "sum(1,2,3,4,5)"
   ]
  },
  {
   "cell_type": "code",
   "execution_count": 36,
   "metadata": {},
   "outputs": [],
   "source": [
    "# 변수의 사용범위(유효범위)\n",
    "# 지역변수\n",
    "# 전역변수\n",
    "# 지역변수와 전역변수의 이름은 다르게 하자!!\n",
    "\n",
    "a = 1  # 전역변수\n",
    "\n",
    "def test(a):\n",
    "    a = a + 1  # 지역변수\n",
    "    print('a = ', a)"
   ]
  },
  {
   "cell_type": "code",
   "execution_count": 37,
   "metadata": {},
   "outputs": [
    {
     "name": "stdout",
     "output_type": "stream",
     "text": [
      "a =  2\n",
      "1\n"
     ]
    }
   ],
   "source": [
    "test(a)\n",
    "print(a)"
   ]
  },
  {
   "cell_type": "code",
   "execution_count": 39,
   "metadata": {},
   "outputs": [],
   "source": [
    "a = 1 #전역변수\n",
    "def test2():\n",
    "    global a  # 전역변수를 사용하는 것\n",
    "    a = a + 1\n",
    "    print(a)"
   ]
  },
  {
   "cell_type": "code",
   "execution_count": 40,
   "metadata": {},
   "outputs": [
    {
     "name": "stdout",
     "output_type": "stream",
     "text": [
      "2\n",
      "2\n"
     ]
    }
   ],
   "source": [
    "test2()\n",
    "print(a)"
   ]
  },
  {
   "cell_type": "code",
   "execution_count": 41,
   "metadata": {},
   "outputs": [],
   "source": [
    "def set_person(name, job, age = ' '):\n",
    "    person = {'name':name, 'job':job}  # Dictionary\n",
    "    if age: # age에 값이 들어있다면\n",
    "        person['age'] = age\n",
    "    return person  # 사전(Dictionary)를 리턴하는 것"
   ]
  },
  {
   "cell_type": "code",
   "execution_count": 49,
   "metadata": {},
   "outputs": [
    {
     "name": "stdout",
     "output_type": "stream",
     "text": [
      "{'name': '이형걸', 'job': '개발자', 'age': 26}\n"
     ]
    }
   ],
   "source": [
    "writer = set_person('이형걸', '개발자', 26)\n",
    "writer\n",
    "print(writer)"
   ]
  },
  {
   "cell_type": "code",
   "execution_count": 50,
   "metadata": {},
   "outputs": [],
   "source": [
    "# 람다함수 (lambda)\n",
    "def add(x, y):\n",
    "    return x+y"
   ]
  },
  {
   "cell_type": "code",
   "execution_count": 52,
   "metadata": {},
   "outputs": [
    {
     "name": "stdout",
     "output_type": "stream",
     "text": [
      "30\n"
     ]
    }
   ],
   "source": [
    "tot = add(10,20)\n",
    "print(tot)"
   ]
  },
  {
   "cell_type": "code",
   "execution_count": 55,
   "metadata": {},
   "outputs": [
    {
     "name": "stdout",
     "output_type": "stream",
     "text": [
      "30\n"
     ]
    }
   ],
   "source": [
    "total = lambda x, y : x+y\n",
    "print(total(10, 20))"
   ]
  },
  {
   "cell_type": "code",
   "execution_count": null,
   "metadata": {},
   "outputs": [],
   "source": []
  }
 ],
 "metadata": {
  "kernelspec": {
   "display_name": "Python 3",
   "language": "python",
   "name": "python3"
  },
  "language_info": {
   "codemirror_mode": {
    "name": "ipython",
    "version": 3
   },
   "file_extension": ".py",
   "mimetype": "text/x-python",
   "name": "python",
   "nbconvert_exporter": "python",
   "pygments_lexer": "ipython3",
   "version": "3.7.4"
  }
 },
 "nbformat": 4,
 "nbformat_minor": 2
}
