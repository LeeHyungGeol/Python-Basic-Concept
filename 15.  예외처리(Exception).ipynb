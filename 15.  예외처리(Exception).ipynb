{
 "cells": [
  {
   "cell_type": "markdown",
   "metadata": {},
   "source": [
    "### 예외처리(Exception) \n",
    "\n",
    "#### 1. 에러와 예외\n",
    "- 에러(syntax error) : 문법적 오류\n",
    "- 예외(exception) : 문법적 오류는 아니지만 에러 사항에 대해서 좀 더 유연적으로 대처하기 위해 만듬\n",
    "\n",
    "#### 2. 에외처리 방법(throw, throws)\n",
    "- try - except - finally 구문\n",
    "- try : 예외가 발생할 만한 코드를 기술하는 영역\n",
    "- except : 예외를 처리하기 위한 코드를 기술하는 영역\n",
    "- finally : 예외 유무와 상관없이 반드시 처리해야할 코드를 기술하는 영역"
   ]
  },
  {
   "cell_type": "code",
   "execution_count": 10,
   "metadata": {},
   "outputs": [
    {
     "name": "stdout",
     "output_type": "stream",
     "text": [
      "예외 발생\n"
     ]
    }
   ],
   "source": [
    "try:\n",
    "    a = 10\n",
    "    b = 0\n",
    "    print(a/b)\n",
    "    print('프로그램 종료')\n",
    "    \n",
    "except:\n",
    "    print('예외 발생')"
   ]
  },
  {
   "cell_type": "code",
   "execution_count": 5,
   "metadata": {},
   "outputs": [
    {
     "name": "stdout",
     "output_type": "stream",
     "text": [
      "예외 발생 :  division by zero\n",
      "10 20 30 division by zero 40\n",
      "프로그램 종료\n"
     ]
    }
   ],
   "source": [
    "# 파이썬 내장 예외 종류\n",
    "# https://docs.python.org/3/library/exceptions.html\n",
    "try:\n",
    "    a = 10\n",
    "    b = 0\n",
    "    print(a/b)\n",
    "    print('프로그램 종료')\n",
    "    \n",
    "except ZeroDivisionError as e: # 특정한 Exception\n",
    "    print('예외 발생 : ', e)\n",
    "    print(10,20,30,e,40)\n",
    "    \n",
    "print('프로그램 종료')"
   ]
  },
  {
   "cell_type": "code",
   "execution_count": 12,
   "metadata": {},
   "outputs": [
    {
     "name": "stdout",
     "output_type": "stream",
     "text": [
      "예외 발생 :  division by zero\n",
      "10 20 30 division by zero 40\n",
      "10 d\n",
      "프로그램 종료\n"
     ]
    }
   ],
   "source": [
    "# 파이썬 내장 예외 종류\n",
    "# https://docs.python3.org/3/library/exceptions.html\n",
    "try:\n",
    "    a = 10\n",
    "    b = 0\n",
    "    print(a/b)\n",
    "    print('프로그램 종료')\n",
    "    \n",
    "except Exception as e:  # Exception : 모든 예외의 조상(부모 클래스)\n",
    "    print('예외 발생 : ', e)\n",
    "    print(10,20,30,e,40)\n",
    "    print(10, 'd')\n",
    "    \n",
    "print('프로그램 종료')"
   ]
  },
  {
   "cell_type": "code",
   "execution_count": null,
   "metadata": {},
   "outputs": [],
   "source": [
    "print('종료하려면 q를 입력하세요.')\n",
    "\n",
    "while True:\n",
    "    num1 = input('분자 = ')\n",
    "    if num1 == 'q':\n",
    "        break\n",
    "    num2 = input('분모 = ')\n",
    "\n"
   ]
  },
  {
   "cell_type": "code",
   "execution_count": null,
   "metadata": {},
   "outputs": [],
   "source": [
    "print('종료하려면 q를 입력하세요.')\n",
    "\n",
    "while True:\n",
    "    num1 = input(\"분자 = \")\n",
    "    if num1 == 'q':\n",
    "        break\n",
    "    num2 = input('분모 = ')\n",
    "    \n",
    "    try:\n",
    "        result = int(num1) / int(num2)\n",
    "        print(result)\n",
    "    except:\n",
    "        print('0으로 나눌수는 없습니다')\n",
    "print('프로그램종료')"
   ]
  },
  {
   "cell_type": "code",
   "execution_count": null,
   "metadata": {},
   "outputs": [],
   "source": [
    "f = open('C:/python_workspace/common/test.txt')\n",
    "\n",
    "while True:\n",
    "    line = f.readlines()\n",
    "    if not line: break\n",
    "    print(line, end='')\n",
    "f.close()"
   ]
  },
  {
   "cell_type": "code",
   "execution_count": null,
   "metadata": {},
   "outputs": [],
   "source": [
    "try:\n",
    "    f = open('C:/python_workspace/common/test.txt')\n",
    "\n",
    "    while True:\n",
    "        line = f.readlines()\n",
    "        if not line: break\n",
    "        print(line, end='')\n",
    "    f.close()\n",
    "except FileNotFoundError as e:\n",
    "    print('파일이 존재하지 않습니다', e)\n",
    "\n",
    "print('프로그램 종료')\n",
    "    "
   ]
  },
  {
   "cell_type": "code",
   "execution_count": null,
   "metadata": {},
   "outputs": [],
   "source": [
    "a = [1, 2, 3, 4, 5]\n",
    "n1 = 5\n",
    "n2 = 0\n",
    "print(n1/n2)\n",
    "print(a[5])"
   ]
  },
  {
   "cell_type": "code",
   "execution_count": null,
   "metadata": {},
   "outputs": [],
   "source": [
    "try:\n",
    "    a = [1, 2, 3, 4, 5]\n",
    "    n1 = 5\n",
    "    n2 = 0\n",
    "    print(n1/n2)\n",
    "    print(a[5])\n",
    "except ZeroDivisionError as e:\n",
    "    print('0으로 나눌 수 없습니다.')\n",
    "except Exception as e:\n",
    "    print('리스트의 인덱스 범위를 벗어났습니다. ', e)\n",
    "\n",
    "print('프로그램 종료')"
   ]
  },
  {
   "cell_type": "code",
   "execution_count": null,
   "metadata": {},
   "outputs": [],
   "source": [
    "try:\n",
    "    f = open('C:/python_workspace/data/traffic/data.csv')\n",
    "    opened = True\n",
    "    \n",
    "    while True:\n",
    "        line = f.readlines()\n",
    "        a = 10\n",
    "        b = 0\n",
    "        print(a/b)\n",
    "        if not line: break\n",
    "        print(line, end='')\n",
    "        \n",
    "    success = True\n",
    "\n",
    "except FileNotFoundError as e:\n",
    "    opened = False\n",
    "    print(e)\n",
    "except ZeroDivisionError as e:\n",
    "    success = False\n",
    "    print(e)\n",
    "\n",
    "finally:\n",
    "    print('finally')\n",
    "    if opened or success:\n",
    "        f.close()\n",
    "        print('파일이 닫혔습니다.')\n",
    "\n",
    "print('프로그램 종료')"
   ]
  },
  {
   "cell_type": "code",
   "execution_count": null,
   "metadata": {},
   "outputs": [],
   "source": []
  }
 ],
 "metadata": {
  "kernelspec": {
   "display_name": "Python 3",
   "language": "python",
   "name": "python3"
  },
  "language_info": {
   "codemirror_mode": {
    "name": "ipython",
    "version": 3
   },
   "file_extension": ".py",
   "mimetype": "text/x-python",
   "name": "python",
   "nbconvert_exporter": "python",
   "pygments_lexer": "ipython3",
   "version": "3.7.4"
  }
 },
 "nbformat": 4,
 "nbformat_minor": 2
}
